{
 "cells": [
  {
   "cell_type": "markdown",
   "metadata": {},
   "source": [
    "# Dataset Validation Testing\n",
    "\n",
    "This notebook uses a dataset [here](https://kilthub.cmu.edu/articles/dataset/eVTOL_Battery_Dataset/14226830) to validate the model."
   ]
  },
  {
   "cell_type": "code",
   "execution_count": null,
   "metadata": {},
   "outputs": [],
   "source": [
    "import csv\n",
    "import numpy as np\n",
    "import pandas as pd\n",
    "import matplotlib.pyplot as plt\n",
    "import os\n",
    "import zipfile\n",
    "import requests\n",
    "import progressbar"
   ]
  },
  {
   "cell_type": "code",
   "execution_count": null,
   "metadata": {},
   "outputs": [],
   "source": [
    "# start by downloading and extracting the dataset if not already downloaded\n",
    "dataset_link = 'https://kilthub.cmu.edu/ndownloader/articles/14226830/versions/1'\n",
    "filename = 'res/14226830.zip'\n",
    "dataset_path = 'res/dataset'\n",
    "if not os.path.exists(filename):\n",
    "    print('Downloading dataset...')\n",
    "    with requests.get(dataset_link, stream=True) as r:\n",
    "        total_len = int(r.headers.get('Content-Length'))\n",
    "        with open(filename, 'wb') as f:\n",
    "            bar = progressbar.ProgressBar(max_value=total_len)\n",
    "            for chunk in r.iter_content(chunk_size=1024):\n",
    "                if chunk:\n",
    "                    f.write(chunk)\n",
    "                    bar.update(f.tell())\n",
    "            bar.finish()\n",
    "    print('Download complete.')\n",
    "else:\n",
    "    print('Dataset already downloaded.')\n",
    "if not os.path.exists(dataset_path):\n",
    "    print('Extracting dataset...')\n",
    "    os.mkdir(dataset_path)\n",
    "    with zipfile.ZipFile(filename, 'r') as zip_ref:\n",
    "        zip_ref.extractall(dataset_path)\n",
    "    print('Extraction complete.')\n",
    "else:\n",
    "    print('Dataset already extracted.')"
   ]
  },
  {
   "cell_type": "markdown",
   "metadata": {},
   "source": [
    "The dataset csv files are as follows:\n",
    "\n",
    "| File Name | Description |\n",
    "| --------- | ----------- |\n",
    "|VAH01.csv| Baseline \n",
    "|VAH02.csv| Extended cruise (1000 sec)|\n",
    "|VAH05.csv| 10% power reduction during discharge (flight)|\n",
    "|VAH06.csv| CC charge current reduced to C/2|\n",
    "|VAH07.csv| CV charge voltage reduced to 4.0V|\n",
    "|VAH09.csv| Thermal chamber temperature of 20 degrees C|\n",
    "|VAH10.csv| Thermal chamber temperature of 30 degrees C|\n",
    "|VAH11.csv| 20% power reduction during discharge (flight)|\n",
    "|VAH12.csv| Short cruise length (400 sec)|\n",
    "|VAH13.csv| Short cruise length (600 sec)|\n",
    "|VAH15.csv| Extended cruise (1000 sec)|\n",
    "|VAH16.csv| CC charge current reduced to 1.5C|\n",
    "|VAH17.csv| Baseline|\n",
    "|VAH20.csv| Charge current reduced to 1.5C|\n",
    "|VAH22.csv| Extended cruise (1000 sec)|\n",
    "|VAH23.csv| CV charge voltage reduced to 4.1V|\n",
    "|VAH24.csv| CC charge current reduced to C/2|\n",
    "|VAH25.csv| Thermal chamber temperature of 20 degrees C|\n",
    "|VAH26.csv| Short cruise length (600 sec)|\n",
    "|VAH27.csv| Baseline|\n",
    "|VAH28.csv| 10% power reduction during discharge (flight)|\n",
    "|VAH30.csv| Thermal chamber temperature of 35 degrees C |"
   ]
  },
  {
   "cell_type": "markdown",
   "metadata": {},
   "source": [
    "Each dataset has the following columns:\n",
    "\n",
    "| Column Name | Description |\n",
    "| ----------- | ----------- |\n",
    "| time_s | Time since beginning of experiment in seconds|\n",
    "| Ecell_V | Cell Voltage|\n",
    "| I_mA | Cell current in milliamperes|\n",
    "| EnergyCharge_W_h | The amount of energy supplied to the cell during charge in watt-hours|\n",
    "| QCharge_mA_h | The amout of charge supplied to the cell during charge in milliampere-hours|\n",
    "| EnergyDischarge_W_h | The amount of energy extracted from the cell during discharge in watt-hours|\n",
    "| QDischarge_mA_h | The amount of charge extracted from the cell during discharge in milliampere-hours|\n",
    "| Temperature__C | Cell surface temperature in degrees celcius|\n",
    "| cycleNumber | Cycle number as recorded by the cell tester (see above note)|\n",
    "| Ns | Cycle segment (varies, useful for discerning between segments) |"
   ]
  },
  {
   "cell_type": "code",
   "execution_count": null,
   "metadata": {},
   "outputs": [],
   "source": [
    "# import the data into dataframes\n",
    "print('Importing data...')\n",
    "df = pd.read_csv(os.path.join(dataset_path, 'VAH01.csv'))\n",
    "print('Import complete.')\n",
    "# truncate the dataframe so I can do calculations in a reasonable amount of time\n",
    "df = df.iloc[:30000,:]"
   ]
  },
  {
   "cell_type": "code",
   "execution_count": null,
   "metadata": {},
   "outputs": [],
   "source": [
    "# plot voltage, current, and power over time\n",
    "print('Plotting data...')\n",
    "fig, ax = plt.subplots(3, 1, figsize=(10, 10))\n",
    "ax[0].plot(df['time_s'], df['Ecell_V'])\n",
    "ax[0].set_title('Voltage')\n",
    "ax[1].plot(df['time_s'], df['I_mA'])\n",
    "ax[1].set_title('Current')\n",
    "ax[2].plot(df['time_s'], df['QDischarge_mA_h'], label='Discharge')\n",
    "ax[2].plot(df['time_s'], df['QCharge_mA_h'], label='Charge')\n",
    "ax[2].set_title('Charge (mAh)')\n",
    "ax[2].legend()\n",
    "plt.show()\n"
   ]
  }
 ],
 "metadata": {
  "kernelspec": {
   "display_name": "Python 3.10.4 64-bit",
   "language": "python",
   "name": "python3"
  },
  "language_info": {
   "codemirror_mode": {
    "name": "ipython",
    "version": 3
   },
   "file_extension": ".py",
   "mimetype": "text/x-python",
   "name": "python",
   "nbconvert_exporter": "python",
   "pygments_lexer": "ipython3",
   "version": "3.10.4"
  },
  "orig_nbformat": 4,
  "vscode": {
   "interpreter": {
    "hash": "31f2aee4e71d21fbe5cf8b01ff0e069b9275f58929596ceb00d14d90e3e16cd6"
   }
  }
 },
 "nbformat": 4,
 "nbformat_minor": 2
}
